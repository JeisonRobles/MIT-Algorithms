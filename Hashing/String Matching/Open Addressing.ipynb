{
 "cells": [
  {
   "cell_type": "markdown",
   "metadata": {},
   "source": [
    "# OPEN ADDRESSING EXAMPLE"
   ]
  },
  {
   "cell_type": "code",
   "execution_count": null,
   "metadata": {},
   "outputs": [],
   "source": [
    "class HashTable:\n",
    "    def __init__(self, size):\n",
    "        self.size = size\n",
    "        self.table = [None] * size\n",
    "\n",
    "    def hash_function(self, key):\n",
    "        #Basic Hash Function using modulo operation\n",
    "        return key % self.size\n",
    "    \n",
    "    def insert (self, key, value):\n",
    "        #Find initial index using the hash function\n",
    "        idx = self.hash_function(key)\n",
    "\n",
    "        #Linear probing to find an available slot\n",
    "        while self.table[idx] is not None:\n",
    "            idx = (idx + 1) % self.size\n",
    "\n",
    "        #insert the key-value pair \n",
    "    "
   ]
  }
 ],
 "metadata": {
  "language_info": {
   "name": "python"
  }
 },
 "nbformat": 4,
 "nbformat_minor": 2
}
