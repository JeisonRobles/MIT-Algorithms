{
 "cells": [
  {
   "cell_type": "markdown",
   "metadata": {},
   "source": [
    "# HEAP ALGORITHM IMPLEMENTATION AND TIME COMPLEXITY THROUGH BIG O NOTATION"
   ]
  },
  {
   "cell_type": "code",
   "execution_count": 2,
   "metadata": {},
   "outputs": [],
   "source": [
    "import heapq"
   ]
  },
  {
   "cell_type": "code",
   "execution_count": 3,
   "metadata": {},
   "outputs": [
    {
     "name": "stdout",
     "output_type": "stream",
     "text": [
      "[-10]\n",
      "[-10, -5]\n",
      "[-15, -5, -10]\n",
      "[-15, -5, -10, -1]\n"
     ]
    }
   ],
   "source": [
    "max_heap = []\n",
    "\n",
    "heapq.heappush(max_heap,-10)\n",
    "print(max_heap)\n",
    "heapq.heappush(max_heap,-5)\n",
    "print(max_heap)\n",
    "heapq.heappush(max_heap,-15)\n",
    "print(max_heap)\n",
    "heapq.heappush(max_heap,-1)\n",
    "print(max_heap)"
   ]
  },
  {
   "cell_type": "markdown",
   "metadata": {},
   "source": [
    "Print the Heap"
   ]
  },
  {
   "cell_type": "code",
   "execution_count": 6,
   "metadata": {},
   "outputs": [
    {
     "name": "stdout",
     "output_type": "stream",
     "text": [
      "Max-Heap:  [15, 5, 10, 1]\n"
     ]
    }
   ],
   "source": [
    "print('Max-Heap: ', [-x for x in max_heap])"
   ]
  },
  {
   "cell_type": "markdown",
   "metadata": {},
   "source": [
    "Remove and return the maximum element"
   ]
  },
  {
   "cell_type": "code",
   "execution_count": 7,
   "metadata": {},
   "outputs": [
    {
     "name": "stdout",
     "output_type": "stream",
     "text": [
      "The largest element removed is :  15\n",
      "Max-Heap:  [10, 5, 1]\n"
     ]
    }
   ],
   "source": [
    "largest = -heapq.heappop(max_heap)\n",
    "print('The largest element removed is : ', largest)\n",
    "\n",
    "print('Max-Heap: ', [-x for x in max_heap])"
   ]
  },
  {
   "cell_type": "markdown",
   "metadata": {},
   "source": [
    "## MEASURING THE TIME COMPLEXITY FOR MAX-HEAP"
   ]
  },
  {
   "cell_type": "code",
   "execution_count": null,
   "metadata": {},
   "outputs": [],
   "source": [
    "import heapq\n",
    "import time\n",
    "import random\n",
    "import matplotlib.pyplot as plt\n",
    "\n",
    "\n",
    "#Function to measure the time to insert elements into a max-heap\n",
    "def heap_push_time(n):\n",
    "    max_heap = []\n",
    "    elements = random.sample(range(1,n*10),n)\n",
    "    start_time = time.time()\n",
    "    for el in elements:\n",
    "        # Insert negative element to simulate the max heap (because of the heapq package structure)\n",
    "        heapq.heappush(max_heap, -el)\n",
    "\n",
    "    return time.time() - start_time\n",
    "\n",
    "#Function to measure the time to pop elements from max-heap\n",
    "def heap_pop_time(n):\n",
    "    max_heap = []\n",
    "    elements = random.sample(range(1,n*10), 10)\n",
    "    for el in elements:\n",
    "        heapq.heappush(max_heap, -el) # Insert element -el into the heap structure\n",
    "\n",
    "    start_time = time.time()\n",
    "    while max_heap:\n",
    "        heapq.heappop(max_heap)\n",
    "    return time.time() - start_time\n",
    "\n",
    "\n",
    "\n",
    "\n"
   ]
  }
 ],
 "metadata": {
  "kernelspec": {
   "display_name": "myenv",
   "language": "python",
   "name": "python3"
  },
  "language_info": {
   "codemirror_mode": {
    "name": "ipython",
    "version": 3
   },
   "file_extension": ".py",
   "mimetype": "text/x-python",
   "name": "python",
   "nbconvert_exporter": "python",
   "pygments_lexer": "ipython3",
   "version": "3.12.5"
  }
 },
 "nbformat": 4,
 "nbformat_minor": 2
}
